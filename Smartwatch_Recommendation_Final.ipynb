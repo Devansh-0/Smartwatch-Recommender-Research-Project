{
  "cells": [
    {
      "cell_type": "markdown",
      "metadata": {
        "id": "view-in-github",
        "colab_type": "text"
      },
      "source": [
        "<a href=\"https://colab.research.google.com/github/Devansh-0/Smartwatch-Recommender-Research-Project/blob/main/Smartwatch_Recommendation_Final.ipynb\" target=\"_parent\"><img src=\"https://colab.research.google.com/assets/colab-badge.svg\" alt=\"Open In Colab\"/></a>"
      ]
    },
    {
      "cell_type": "markdown",
      "metadata": {
        "id": "uUTtVL81vkmL"
      },
      "source": [
        "# Recommendation system"
      ]
    },
    {
      "cell_type": "code",
      "execution_count": null,
      "metadata": {
        "id": "RfmZxhmutMDl"
      },
      "outputs": [],
      "source": [
        "\n",
        "import pandas as pd\n",
        "\n",
        "# Load the smartwatch dataset\n",
        "smartwatch_data = pd.read_csv(\"Smartwatches - smartwatches.csv\")\n",
        "\n",
        "# Define the features to be included in the recommendation system\n",
        "features = [\"Battery Life (days)\", \"Connectivity\", \"Price (USD)\", \"Display Type\", \"Display Size (inches)\", \"Resolution\", \"sentiment_score\"]\n",
        "\n",
        "# Prompt the user to rank the importance of each feature\n",
        "print(\"Please rank the importance of each feature from 1 to 7, with 7 being the most important:\")\n",
        "feature_weights = {}\n",
        "for feature in features:\n",
        "    rank = int(input(f\"{feature}: \"))\n",
        "    feature_weights[feature] = rank\n",
        "\n",
        "# Calculate the weights for each feature\n",
        "total_weight = sum(feature_weights.values())\n",
        "feature_weights = {feature: weight / total_weight for feature, weight in feature_weights.items()}\n",
        "\n",
        "# Assign relative scores to each smartwatch based on the dataset\n",
        "for feature in features:\n",
        "    if feature == \"Connectivity\":\n",
        "        # Score the Design feature based on user input\n",
        "        design_scores = {}\n",
        "        design_scores[\"Bluetooth, Wi-Fi, GPS\"] = int(input(\"How would you rate the watch if it had Bluetooth, Wi-Fi, GPS feature? score (1-10): \"))\n",
        "        design_scores[\"Bluetooth, Wi-Fi, Cellular \"] = int(input(\"How would you rate the watch if it had Bluetooth, Wi-Fi, Cellular feature? score (1-10): \"))\n",
        "        design_scores[\"Bluetooth, Wi-Fi \"] = int(input(\"How would you rate the watch if it had Bluetooth, Wi-Fi feature? score (1-10): \"))\n",
        "  \n",
        "        max_score = max(design_scores.values())\n",
        "        min_score = min(design_scores.values())\n",
        "        design_range = max_score - min_score\n",
        "        print(design_range)\n",
        "\n",
        "        smartwatch_data[f\"{feature} Score\"] = smartwatch_data[feature].apply(lambda x: design_scores[x] if x in design_scores else 0)\n",
        "        smartwatch_data[f\"{feature} Score\"] = (smartwatch_data[f\"{feature} Score\"] - min_score) / design_range * 10\n",
        "\n",
        "\n",
        "    elif feature == \"Display Type\":\n",
        "        # Score the Design feature based on user input\n",
        "        display_scores = {}\n",
        "        display_scores[\"Retina\"] = int(input(\"How would you rate the watch if it had Retina display? score (1-10): \"))\n",
        "        display_scores[\"AMOLED\"] = int(input(\"How would you rate the watch if it had AMOLED display? score (1-10): \"))\n",
        "        display_scores[\"TFT LCD\"] = int(input(\"How would you rate the watch if it had TFT LCD display? score (1-10): \"))\n",
        "  \n",
        "        # max_score = max(display_scores.values())\n",
        "        # min_score = min(display_scores.values())\n",
        "        # display_range = max_score - min_score\n",
        "        average_score = sum(display_scores.values()) / len(display_scores)\n",
        "\n",
        "\n",
        "        smartwatch_data[f\"{feature} Score\"] = smartwatch_data[feature].apply(lambda x: display_scores[x] if x in display_scores else 0)\n",
        "        print(smartwatch_data[f\"{feature} Score\"])\n",
        "        smartwatch_data[f\"{feature} Score\"] = (smartwatch_data[f\"{feature} Score\"] - min_score) / average_score * 10\n",
        "        print(smartwatch_data[f\"{feature} Score\"])\n",
        "\n",
        "\n",
        "\n",
        "    elif feature == \"Resolution\":\n",
        "      # Convert the resolution feature to numerical values\n",
        "      smartwatch_data[\"Resolution\"] = smartwatch_data[\"Resolution\"].apply(lambda x: int(x.split(\" x \")[0]) * int(x.split(\" x \")[1])if isinstance(x, str) else x)\n",
        "      # 4print(smartwatch_data[\"Resolution\"])\n",
        "      smartwatch_data[\"Resolution Score\"] = smartwatch_data[\"Resolution\"].rank(pct=True) * 10\n",
        "      \n",
        "\n",
        "\n",
        "\n",
        "    elif feature == \"Price\":\n",
        "      # Score the Price feature based on percentile ranking in reverse order (lower price is better)\n",
        "      smartwatch_data[f\"{feature} Score\"] = 10 - smartwatch_data[feature].rank(pct=True) * 10\n",
        "\n",
        "   \n",
        "    else:\n",
        "        # Score other features based on percentile ranking\n",
        "        smartwatch_data[f\"{feature} Score\"] = smartwatch_data[feature].rank(pct=True) * 10\n",
        "\n",
        "\n",
        "\n",
        "# Calculate the weighted scores for each smartwatch\n",
        "smartwatch_data[\"Weighted Score\"] = 0\n",
        "for feature, weight in feature_weights.items():\n",
        "    smartwatch_data[\"Weighted Score\"] += smartwatch_data[f\"{feature} Score\"] * weight\n",
        "    # print(smartwatch_data[\"Weighted Score\"])\n",
        "\n",
        "# Sort the smartwatches by their weighted scores in descending order\n",
        "recommendations = smartwatch_data.sort_values(\"Weighted Score\", ascending=False)\n",
        "\n",
        "# Display the top 3 recommended smartwatches\n",
        "print(\"\\nTop 5 recommended smartwatches:\")\n",
        "for i in range(10):\n",
        "    print(f\"{i+1}. {recommendations.iloc[i]['Brand']} (Weighted Score: {recommendations.iloc[i]['Weighted Score']:.2f})\")\n"
      ]
    },
    {
      "cell_type": "code",
      "execution_count": null,
      "metadata": {
        "id": "yr6-IdfDqUWr",
        "colab": {
          "base_uri": "https://localhost:8080/"
        },
        "outputId": "bc499ea2-67bf-433b-de4e-c55b09263373"
      },
      "outputs": [
        {
          "output_type": "stream",
          "name": "stdout",
          "text": [
            "Looking in indexes: https://pypi.org/simple, https://us-python.pkg.dev/colab-wheels/public/simple/\n",
            "Requirement already satisfied: Flask in /usr/local/lib/python3.10/dist-packages (2.2.4)\n",
            "Requirement already satisfied: Werkzeug>=2.2.2 in /usr/local/lib/python3.10/dist-packages (from Flask) (2.3.0)\n",
            "Requirement already satisfied: Jinja2>=3.0 in /usr/local/lib/python3.10/dist-packages (from Flask) (3.1.2)\n",
            "Requirement already satisfied: itsdangerous>=2.0 in /usr/local/lib/python3.10/dist-packages (from Flask) (2.1.2)\n",
            "Requirement already satisfied: click>=8.0 in /usr/local/lib/python3.10/dist-packages (from Flask) (8.1.3)\n",
            "Requirement already satisfied: MarkupSafe>=2.0 in /usr/local/lib/python3.10/dist-packages (from Jinja2>=3.0->Flask) (2.1.2)\n"
          ]
        }
      ],
      "source": [
        "pip install Flask\n"
      ]
    },
    {
      "cell_type": "code",
      "source": [
        "from flask import Flask\n",
        "\n",
        "app = Flask(__name__)\n"
      ],
      "metadata": {
        "id": "elXDMqC9lQpY"
      },
      "execution_count": null,
      "outputs": []
    },
    {
      "cell_type": "code",
      "source": [
        "from flask import request\n",
        "import pandas as pd\n",
        "\n",
        "@app.route('/recommend', methods=['POST'])\n",
        "def recommend():\n",
        "    battery_life = int(request.form['battery_life'])\n",
        "    connectivity = int(request.form['connectivity'])\n",
        "    price = int(request.form['price'])\n",
        "    display_type = int(request.form['display_type'])\n",
        "    display_size = int(request.form['display_size'])\n",
        "    resolution = int(request.form['resolution'])\n",
        "    sentiment_score = int(request.form['sentiment_score'])\n",
        "       \n",
        "    \n",
        "    aa = int(request.form['aa'])\n",
        "    bb = int(request.form['bb'])\n",
        "    cc = int(request.form['cc'])\n",
        "    retina = int(request.form['retina'])\n",
        "    amoled = int(request.form['amoled'])\n",
        "    tft = int(request.form['tft'])\n",
        "    \n",
        "\n",
        "\n",
        "    # Load the smartwatch dataset\n",
        "    smartwatch_data = pd.read_csv(\"Smartwatches - smartwatches.csv\")\n",
        "\n",
        "    # Define the features to be included in the recommendation system\n",
        "    features = [\"Battery Life (days)\", \"Connectivity\", \"Price (USD)\", \"Display Type\", \"Display Size (inches)\", \"Resolution\", \"sentiment_score\"]\n",
        "\n",
        "    # Prompt the user to rank the importance of each feature\n",
        "    print(\"Please rank the importance of each feature from 1 to 7, with 7 being the most important:\")\n",
        "    feature_weights = {}\n",
        "    for feature in features:\n",
        "        rank = int(input(f\"{feature}: \"))\n",
        "        feature_weights[feature] = rank\n",
        "\n",
        "    # Calculate the weights for each feature\n",
        "    total_weight = sum(feature_weights.values())\n",
        "    feature_weights = {feature: weight / total_weight for feature, weight in feature_weights.items()}\n",
        "\n",
        "    # Assign relative scores to each smartwatch based on the dataset\n",
        "    for feature in features:\n",
        "        if feature == \"Connectivity\":\n",
        "            # Score the Design feature based on user input\n",
        "            design_scores = {}\n",
        "            design_scores[\"Bluetooth, Wi-Fi, GPS\"] = int(input(\"How would you rate the watch if it had Bluetooth, Wi-Fi, GPS feature? score (1-10): \"))\n",
        "            design_scores[\"Bluetooth, Wi-Fi, Cellular \"] = int(input(\"How would you rate the watch if it had Bluetooth, Wi-Fi, Cellular feature? score (1-10): \"))\n",
        "            design_scores[\"Bluetooth, Wi-Fi \"] = int(input(\"How would you rate the watch if it had Bluetooth, Wi-Fi feature? score (1-10): \"))\n",
        "      \n",
        "            max_score = max(design_scores.values())\n",
        "            min_score = min(design_scores.values())\n",
        "            design_range = max_score - min_score\n",
        "            print(design_range)\n",
        "\n",
        "            smartwatch_data[f\"{feature} Score\"] = smartwatch_data[feature].apply(lambda x: design_scores[x] if x in design_scores else 0)\n",
        "            smartwatch_data[f\"{feature} Score\"] = (smartwatch_data[f\"{feature} Score\"] - min_score) / design_range * 10\n",
        "\n",
        "\n",
        "        elif feature == \"Display Type\":\n",
        "            # Score the Design feature based on user input\n",
        "            display_scores = {}\n",
        "            display_scores[\"Retina\"] = int(input(\"How would you rate the watch if it had Retina display? score (1-10): \"))\n",
        "            display_scores[\"AMOLED\"] = int(input(\"How would you rate the watch if it had AMOLED display? score (1-10): \"))\n",
        "            display_scores[\"TFT LCD\"] = int(input(\"How would you rate the watch if it had TFT LCD display? score (1-10): \"))\n",
        "      \n",
        "            # max_score = max(display_scores.values())\n",
        "            # min_score = min(display_scores.values())\n",
        "            # display_range = max_score - min_score\n",
        "            average_score = sum(display_scores.values()) / len(display_scores)\n",
        "\n",
        "\n",
        "            smartwatch_data[f\"{feature} Score\"] = smartwatch_data[feature].apply(lambda x: display_scores[x] if x in display_scores else 0)\n",
        "            print(smartwatch_data[f\"{feature} Score\"])\n",
        "            smartwatch_data[f\"{feature} Score\"] = (smartwatch_data[f\"{feature} Score\"] - min_score) / average_score * 10\n",
        "            print(smartwatch_data[f\"{feature} Score\"])\n",
        "\n",
        "\n",
        "\n",
        "        elif feature == \"Resolution\":\n",
        "          # Convert the resolution feature to numerical values\n",
        "          smartwatch_data[\"Resolution\"] = smartwatch_data[\"Resolution\"].apply(lambda x: int(x.split(\" x \")[0]) * int(x.split(\" x \")[1])if isinstance(x, str) else x)\n",
        "          # 4print(smartwatch_data[\"Resolution\"])\n",
        "          smartwatch_data[\"Resolution Score\"] = smartwatch_data[\"Resolution\"].rank(pct=True) * 10\n",
        "          \n",
        "\n",
        "\n",
        "\n",
        "        elif feature == \"Price\":\n",
        "          # Score the Price feature based on percentile ranking in reverse order (lower price is better)\n",
        "          smartwatch_data[f\"{feature} Score\"] = 10 - smartwatch_data[feature].rank(pct=True) * 10\n",
        "\n",
        "      \n",
        "        else:\n",
        "            # Score other features based on percentile ranking\n",
        "            smartwatch_data[f\"{feature} Score\"] = smartwatch_data[feature].rank(pct=True) * 10\n",
        "\n",
        "\n",
        "\n",
        "    # Calculate the weighted scores for each smartwatch\n",
        "    smartwatch_data[\"Weighted Score\"] = 0\n",
        "    for feature, weight in feature_weights.items():\n",
        "        smartwatch_data[\"Weighted Score\"] += smartwatch_data[f\"{feature} Score\"] * weight\n",
        "        # print(smartwatch_data[\"Weighted Score\"])\n",
        "\n",
        "    # Sort the smartwatches by their weighted scores in descending order\n",
        "    recommendations = smartwatch_data.sort_values(\"Weighted Score\", ascending=False)\n",
        "\n",
        "    # Display the top 3 recommended smartwatches\n",
        "    print(\"\\nTop 5 recommended smartwatches:\")\n",
        "    for i in range(10):\n",
        "        print(f\"{i+1}. {recommendations.iloc[i]['Brand']} (Weighted Score: {recommendations.iloc[i]['Weighted Score']:.2f})\")\n",
        "\n",
        "    \n",
        "    # Code to process the form data goes here\n",
        "    pass\n"
      ],
      "metadata": {
        "id": "E4vCMQ3QlYNx"
      },
      "execution_count": null,
      "outputs": []
    },
    {
      "cell_type": "code",
      "source": [],
      "metadata": {
        "id": "BZ-_1_UMtjBj"
      },
      "execution_count": null,
      "outputs": []
    },
    {
      "cell_type": "code",
      "source": [],
      "metadata": {
        "id": "rxlk8epfucam"
      },
      "execution_count": null,
      "outputs": []
    }
  ],
  "metadata": {
    "colab": {
      "provenance": [],
      "authorship_tag": "ABX9TyNlWCeKzPp7u148cK1XjN8x",
      "include_colab_link": true
    },
    "kernelspec": {
      "display_name": "Python 3",
      "name": "python3"
    },
    "language_info": {
      "name": "python"
    }
  },
  "nbformat": 4,
  "nbformat_minor": 0
}